{
 "cells": [
  {
   "cell_type": "code",
   "execution_count": null,
   "id": "16732b9b-1475-4c0e-87e7-58acb91efae9",
   "metadata": {},
   "outputs": [],
   "source": []
  }
 ],
 "metadata": {
  "kernelspec": {
   "display_name": "",
   "name": ""
  },
  "language_info": {
   "name": ""
  }
 },
 "nbformat": 4,
 "nbformat_minor": 5
}
